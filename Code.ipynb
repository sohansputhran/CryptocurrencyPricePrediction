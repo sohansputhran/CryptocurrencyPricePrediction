{
 "cells": [
  {
   "cell_type": "code",
   "execution_count": 10,
   "metadata": {},
   "outputs": [
    {
     "name": "stdout",
     "output_type": "stream",
     "text": [
      "b'[{\"currency\":\"DOGE\",\"timestamps\":[\"2020-01-06T00:00:00Z\",\"2020-01-13T00:00:00Z\",\"2020-01-20T00:00:00Z\",\"2020-01-27T00:00:00Z\",\"2020-02-03T00:00:00Z\",\"2020-02-10T00:00:00Z\",\"2020-02-17T00:00:00Z\",\"2020-02-24T00:00:00Z\",\"2020-03-02T00:00:00Z\",\"2020-03-09T00:00:00Z\",\"2020-03-16T00:00:00Z\",\"2020-03-23T00:00:00Z\",\"2020-03-30T00:00:00Z\",\"2020-04-06T00:00:00Z\",\"2020-04-13T00:00:00Z\",\"2020-04-20T00:00:00Z\",\"2020-04-27T00:00:00Z\",\"2020-05-04T00:00:00Z\",\"2020-05-11T00:00:00Z\",\"2020-05-18T00:00:00Z\",\"2020-05-25T00:00:00Z\",\"2020-06-01T00:00:00Z\",\"2020-06-08T00:00:00Z\",\"2020-06-15T00:00:00Z\",\"2020-06-22T00:00:00Z\",\"2020-06-29T00:00:00Z\",\"2020-07-06T00:00:00Z\",\"2020-07-13T00:00:00Z\",\"2020-07-20T00:00:00Z\",\"2020-07-27T00:00:00Z\",\"2020-08-03T00:00:00Z\",\"2020-08-10T00:00:00Z\",\"2020-08-17T00:00:00Z\",\"2020-08-24T00:00:00Z\",\"2020-08-31T00:00:00Z\",\"2020-09-07T00:00:00Z\",\"2020-09-14T00:00:00Z\",\"2020-09-21T00:00:00Z\",\"2020-09-28T00:00:00Z\",\"2020-10-05T00:00:00Z\",\"2020-10-12T00:00:00Z\",\"2020-10-19T00:00:00Z\",\"2020-10-26T00:00:00Z\",\"2020-11-02T00:00:00Z\",\"2020-11-09T00:00:00Z\",\"2020-11-16T00:00:00Z\",\"2020-11-23T00:00:00Z\",\"2020-11-30T00:00:00Z\",\"2020-12-07T00:00:00Z\",\"2020-12-14T00:00:00Z\",\"2020-12-21T00:00:00Z\",\"2020-12-28T00:00:00Z\"],\"prices\":[\"0.00216070\",\"0.00237156\",\"0.00230294\",\"0.00248379\",\"0.00323077\",\"0.00277169\",\"0.00267910\",\"0.00227789\",\"0.00218281\",\"0.00168442\",\"0.00173740\",\"0.00172652\",\"0.00185314\",\"0.00196105\",\"0.00204556\",\"0.00240478\",\"0.00250972\",\"0.00245609\",\"0.00252780\",\"0.00244375\",\"0.00255248\",\"0.00259883\",\"0.00249547\",\"0.00243387\",\"0.00231717\",\"0.00231074\",\"0.00364343\",\"0.00339937\",\"0.00325661\",\"0.00335824\",\"0.00347851\",\"0.00351118\",\"0.00339304\",\"0.00329487\",\"0.00279446\",\"0.00277935\",\"0.00277235\",\"0.00269602\",\"0.00263214\",\"0.00267895\",\"0.00258317\",\"0.00265832\",\"0.00258059\",\"0.00271194\",\"0.00276746\",\"0.00334606\",\"0.00343435\",\"0.00338769\",\"0.00326999\",\"0.00463533\",\"0.00456042\",\"0.00983721\"]}]\\n'\n"
     ]
    }
   ],
   "source": [
    "# import urllib.request\r\n",
    "# api_key = ''\r\n",
    "# crypto = 'DOGE'\r\n",
    "# interval = '1d'\r\n",
    "# # url = \"https://api.nomics.com/v1/currencies/ticker?key=\" + api_key + \\\r\n",
    "# #       \"&ids=\" + crypto + \"&interval=\" + interval + \"&convert=USD&per-page=100&page=1\"\r\n",
    "\r\n",
    "# start_date = '2020-01-01'\r\n",
    "# end_date = '2020-12-31'\r\n",
    "# url = \"https://api.nomics.com/v1/currencies/sparkline?key=\" + api_key + \\\r\n",
    "#       \"&ids=\" + crypto + \"&start=\" + start_date + \"T00%3A00%3A00Z&end=\" + end_date + \"T00%3A00%3A00Z\" + \"&interval=\" + interval\r\n",
    "\r\n",
    "# print(urllib.request.urlopen(url).read())"
   ]
  },
  {
   "cell_type": "code",
   "execution_count": 11,
   "metadata": {},
   "outputs": [],
   "source": [
    "# Description: This program attempts to predict the future price of Dogecoin"
   ]
  },
  {
   "cell_type": "code",
   "execution_count": 12,
   "metadata": {},
   "outputs": [],
   "source": [
    "# Import the libraries\r\n",
    "import numpy as np\r\n",
    "import pandas as pd"
   ]
  },
  {
   "cell_type": "code",
   "execution_count": 27,
   "metadata": {},
   "outputs": [
    {
     "data": {
      "text/html": [
       "<div>\n",
       "<style scoped>\n",
       "    .dataframe tbody tr th:only-of-type {\n",
       "        vertical-align: middle;\n",
       "    }\n",
       "\n",
       "    .dataframe tbody tr th {\n",
       "        vertical-align: top;\n",
       "    }\n",
       "\n",
       "    .dataframe thead th {\n",
       "        text-align: right;\n",
       "    }\n",
       "</style>\n",
       "<table border=\"1\" class=\"dataframe\">\n",
       "  <thead>\n",
       "    <tr style=\"text-align: right;\">\n",
       "      <th></th>\n",
       "      <th>PriceUSD</th>\n",
       "    </tr>\n",
       "    <tr>\n",
       "      <th>date</th>\n",
       "      <th></th>\n",
       "    </tr>\n",
       "  </thead>\n",
       "  <tbody>\n",
       "    <tr>\n",
       "      <th>2020-02-01</th>\n",
       "      <td>0.002390</td>\n",
       "    </tr>\n",
       "    <tr>\n",
       "      <th>2020-02-02</th>\n",
       "      <td>0.002469</td>\n",
       "    </tr>\n",
       "    <tr>\n",
       "      <th>2020-02-03</th>\n",
       "      <td>0.002413</td>\n",
       "    </tr>\n",
       "    <tr>\n",
       "      <th>2020-02-04</th>\n",
       "      <td>0.002492</td>\n",
       "    </tr>\n",
       "    <tr>\n",
       "      <th>2020-02-05</th>\n",
       "      <td>0.002564</td>\n",
       "    </tr>\n",
       "  </tbody>\n",
       "</table>\n",
       "</div>"
      ],
      "text/plain": [
       "            PriceUSD\n",
       "date                \n",
       "2020-02-01  0.002390\n",
       "2020-02-02  0.002469\n",
       "2020-02-03  0.002413\n",
       "2020-02-04  0.002492\n",
       "2020-02-05  0.002564"
      ]
     },
     "execution_count": 27,
     "metadata": {},
     "output_type": "execute_result"
    }
   ],
   "source": [
    "# Load the data\r\n",
    "df = pd.read_csv('doge.csv')\r\n",
    "\r\n",
    "# Set date as the index \r\n",
    "df.set_index(pd.DatetimeIndex(df['date']), inplace=True)\r\n",
    "\r\n",
    "# Remove unwanted data\r\n",
    "df = df[['PriceUSD']]\r\n",
    "df = df.iloc[2200:,:]\r\n",
    "\r\n",
    "# Show the data\r\n",
    "df.head()"
   ]
  },
  {
   "cell_type": "code",
   "execution_count": 28,
   "metadata": {},
   "outputs": [
    {
     "data": {
      "text/html": [
       "<div>\n",
       "<style scoped>\n",
       "    .dataframe tbody tr th:only-of-type {\n",
       "        vertical-align: middle;\n",
       "    }\n",
       "\n",
       "    .dataframe tbody tr th {\n",
       "        vertical-align: top;\n",
       "    }\n",
       "\n",
       "    .dataframe thead th {\n",
       "        text-align: right;\n",
       "    }\n",
       "</style>\n",
       "<table border=\"1\" class=\"dataframe\">\n",
       "  <thead>\n",
       "    <tr style=\"text-align: right;\">\n",
       "      <th></th>\n",
       "      <th>PriceUSD</th>\n",
       "      <th>Prediction</th>\n",
       "    </tr>\n",
       "    <tr>\n",
       "      <th>date</th>\n",
       "      <th></th>\n",
       "      <th></th>\n",
       "    </tr>\n",
       "  </thead>\n",
       "  <tbody>\n",
       "    <tr>\n",
       "      <th>2020-02-01</th>\n",
       "      <td>0.002390</td>\n",
       "      <td>0.002469</td>\n",
       "    </tr>\n",
       "    <tr>\n",
       "      <th>2020-02-02</th>\n",
       "      <td>0.002469</td>\n",
       "      <td>0.002413</td>\n",
       "    </tr>\n",
       "    <tr>\n",
       "      <th>2020-02-03</th>\n",
       "      <td>0.002413</td>\n",
       "      <td>0.002492</td>\n",
       "    </tr>\n",
       "    <tr>\n",
       "      <th>2020-02-04</th>\n",
       "      <td>0.002492</td>\n",
       "      <td>0.002564</td>\n",
       "    </tr>\n",
       "    <tr>\n",
       "      <th>2020-02-05</th>\n",
       "      <td>0.002564</td>\n",
       "      <td>0.002663</td>\n",
       "    </tr>\n",
       "    <tr>\n",
       "      <th>...</th>\n",
       "      <td>...</td>\n",
       "      <td>...</td>\n",
       "    </tr>\n",
       "    <tr>\n",
       "      <th>2021-06-22</th>\n",
       "      <td>0.188829</td>\n",
       "      <td>0.234789</td>\n",
       "    </tr>\n",
       "    <tr>\n",
       "      <th>2021-06-23</th>\n",
       "      <td>0.234789</td>\n",
       "      <td>0.263518</td>\n",
       "    </tr>\n",
       "    <tr>\n",
       "      <th>2021-06-24</th>\n",
       "      <td>0.263518</td>\n",
       "      <td>0.240247</td>\n",
       "    </tr>\n",
       "    <tr>\n",
       "      <th>2021-06-25</th>\n",
       "      <td>0.240247</td>\n",
       "      <td>0.240943</td>\n",
       "    </tr>\n",
       "    <tr>\n",
       "      <th>2021-06-26</th>\n",
       "      <td>0.240943</td>\n",
       "      <td>NaN</td>\n",
       "    </tr>\n",
       "  </tbody>\n",
       "</table>\n",
       "<p>512 rows × 2 columns</p>\n",
       "</div>"
      ],
      "text/plain": [
       "            PriceUSD  Prediction\n",
       "date                            \n",
       "2020-02-01  0.002390    0.002469\n",
       "2020-02-02  0.002469    0.002413\n",
       "2020-02-03  0.002413    0.002492\n",
       "2020-02-04  0.002492    0.002564\n",
       "2020-02-05  0.002564    0.002663\n",
       "...              ...         ...\n",
       "2021-06-22  0.188829    0.234789\n",
       "2021-06-23  0.234789    0.263518\n",
       "2021-06-24  0.263518    0.240247\n",
       "2021-06-25  0.240247    0.240943\n",
       "2021-06-26  0.240943         NaN\n",
       "\n",
       "[512 rows x 2 columns]"
      ]
     },
     "execution_count": 28,
     "metadata": {},
     "output_type": "execute_result"
    }
   ],
   "source": [
    "# Create a variable to store the number of days into the future that we want to predict\r\n",
    "prediction_days = 1\r\n",
    "\r\n",
    "# Create a new column called Prediction\r\n",
    "df['Prediction'] = df['PriceUSD'].shift(-prediction_days)\r\n",
    "\r\n",
    "# Show the data\r\n",
    "df"
   ]
  },
  {
   "cell_type": "code",
   "execution_count": 33,
   "metadata": {},
   "outputs": [
    {
     "data": {
      "text/plain": [
       "array([[0.3206744 ],\n",
       "       [0.30715372],\n",
       "       [0.30584986],\n",
       "       [0.29246527],\n",
       "       [0.28729606],\n",
       "       [0.28066914],\n",
       "       [0.17918748],\n",
       "       [0.18882902],\n",
       "       [0.23478921],\n",
       "       [0.26351766]])"
      ]
     },
     "execution_count": 33,
     "metadata": {},
     "output_type": "execute_result"
    }
   ],
   "source": [
    "# Create the independent dataset (X)\r\n",
    "X = np.array(df.drop(['Prediction'], 1))\r\n",
    "\r\n",
    "# Remove the last n+1 rows of data where n is the prediction_days\r\n",
    "X = X[: len(df) - prediction_days - 1]\r\n",
    "\r\n",
    "# Show the data\r\n",
    "X[-10:]"
   ]
  },
  {
   "cell_type": "code",
   "execution_count": 32,
   "metadata": {},
   "outputs": [
    {
     "data": {
      "text/plain": [
       "array([0.30715372, 0.30584986, 0.29246527, 0.28729606, 0.28066914,\n",
       "       0.17918748, 0.18882902, 0.23478921, 0.26351766, 0.24024652])"
      ]
     },
     "execution_count": 32,
     "metadata": {},
     "output_type": "execute_result"
    }
   ],
   "source": [
    "# Create a dependent dataset(y)\r\n",
    "y = np.array(df['Prediction'])\r\n",
    "\r\n",
    "# Get all of the y values except the last n+1 rows\r\n",
    "y = y[: -prediction_days-1]\r\n",
    "\r\n",
    "# Show the data\r\n",
    "y[-10:]"
   ]
  },
  {
   "cell_type": "code",
   "execution_count": 35,
   "metadata": {},
   "outputs": [
    {
     "name": "stdout",
     "output_type": "stream",
     "text": [
      "Collecting sklearn\n",
      "  Using cached sklearn-0.0.tar.gz (1.1 kB)\n",
      "Collecting scikit-learn\n",
      "  Downloading scikit_learn-0.24.2-cp39-cp39-win_amd64.whl (6.9 MB)\n",
      "Collecting scipy>=0.19.1\n",
      "  Downloading scipy-1.7.0-cp39-cp39-win_amd64.whl (33.8 MB)\n",
      "Requirement already satisfied: numpy>=1.13.3 in c:\\users\\puthr\\appdata\\local\\programs\\python\\python39\\lib\\site-packages (from scikit-learn->sklearn) (1.20.3)\n",
      "Collecting threadpoolctl>=2.0.0\n",
      "  Using cached threadpoolctl-2.1.0-py3-none-any.whl (12 kB)\n",
      "Collecting joblib>=0.11\n",
      "  Downloading joblib-1.0.1-py3-none-any.whl (303 kB)\n",
      "Using legacy 'setup.py install' for sklearn, since package 'wheel' is not installed.\n",
      "Installing collected packages: threadpoolctl, scipy, joblib, scikit-learn, sklearn\n",
      "    Running setup.py install for sklearn: started\n",
      "    Running setup.py install for sklearn: finished with status 'done'\n",
      "Successfully installed joblib-1.0.1 scikit-learn-0.24.2 scipy-1.7.0 sklearn-0.0 threadpoolctl-2.1.0\n"
     ]
    }
   ],
   "source": [
    "!pip install sklearn"
   ]
  },
  {
   "cell_type": "code",
   "execution_count": 36,
   "metadata": {},
   "outputs": [],
   "source": [
    "# Split the data into train and test dataset\r\n",
    "from sklearn.model_selection import train_test_split\r\n",
    "\r\n",
    "x_train, x_test, y_train, y_test = train_test_split(X, y, test_size = 0.2)  "
   ]
  },
  {
   "cell_type": "code",
   "execution_count": 39,
   "metadata": {},
   "outputs": [
    {
     "name": "stdout",
     "output_type": "stream",
     "text": [
      "0.9496067955111462\n"
     ]
    }
   ],
   "source": [
    "from sklearn.ensemble import RandomForestRegressor\r\n",
    "\r\n",
    "forest = RandomForestRegressor(n_estimators = 2, random_state = 587)\r\n",
    "forest.fit(x_train, y_train)\r\n",
    "print(forest.score(x_test, y_test))"
   ]
  },
  {
   "cell_type": "code",
   "execution_count": null,
   "metadata": {},
   "outputs": [],
   "source": []
  }
 ],
 "metadata": {
  "interpreter": {
   "hash": "5d7dc3740d4a340abe12a9b82a43b175de9fa685c1e73eb3b848ef6cb4c64b3a"
  },
  "kernelspec": {
   "display_name": "Python 3.9.5 64-bit",
   "name": "python3"
  },
  "language_info": {
   "codemirror_mode": {
    "name": "ipython",
    "version": 3
   },
   "file_extension": ".py",
   "mimetype": "text/x-python",
   "name": "python",
   "nbconvert_exporter": "python",
   "pygments_lexer": "ipython3",
   "version": "3.9.5"
  },
  "orig_nbformat": 4
 },
 "nbformat": 4,
 "nbformat_minor": 2
}