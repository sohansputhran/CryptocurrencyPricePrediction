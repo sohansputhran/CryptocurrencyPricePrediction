{
 "cells": [
  {
   "cell_type": "code",
   "execution_count": 10,
   "metadata": {},
   "outputs": [
    {
     "name": "stdout",
     "output_type": "stream",
     "text": [
      "b'[{\"currency\":\"DOGE\",\"timestamps\":[\"2020-01-06T00:00:00Z\",\"2020-01-13T00:00:00Z\",\"2020-01-20T00:00:00Z\",\"2020-01-27T00:00:00Z\",\"2020-02-03T00:00:00Z\",\"2020-02-10T00:00:00Z\",\"2020-02-17T00:00:00Z\",\"2020-02-24T00:00:00Z\",\"2020-03-02T00:00:00Z\",\"2020-03-09T00:00:00Z\",\"2020-03-16T00:00:00Z\",\"2020-03-23T00:00:00Z\",\"2020-03-30T00:00:00Z\",\"2020-04-06T00:00:00Z\",\"2020-04-13T00:00:00Z\",\"2020-04-20T00:00:00Z\",\"2020-04-27T00:00:00Z\",\"2020-05-04T00:00:00Z\",\"2020-05-11T00:00:00Z\",\"2020-05-18T00:00:00Z\",\"2020-05-25T00:00:00Z\",\"2020-06-01T00:00:00Z\",\"2020-06-08T00:00:00Z\",\"2020-06-15T00:00:00Z\",\"2020-06-22T00:00:00Z\",\"2020-06-29T00:00:00Z\",\"2020-07-06T00:00:00Z\",\"2020-07-13T00:00:00Z\",\"2020-07-20T00:00:00Z\",\"2020-07-27T00:00:00Z\",\"2020-08-03T00:00:00Z\",\"2020-08-10T00:00:00Z\",\"2020-08-17T00:00:00Z\",\"2020-08-24T00:00:00Z\",\"2020-08-31T00:00:00Z\",\"2020-09-07T00:00:00Z\",\"2020-09-14T00:00:00Z\",\"2020-09-21T00:00:00Z\",\"2020-09-28T00:00:00Z\",\"2020-10-05T00:00:00Z\",\"2020-10-12T00:00:00Z\",\"2020-10-19T00:00:00Z\",\"2020-10-26T00:00:00Z\",\"2020-11-02T00:00:00Z\",\"2020-11-09T00:00:00Z\",\"2020-11-16T00:00:00Z\",\"2020-11-23T00:00:00Z\",\"2020-11-30T00:00:00Z\",\"2020-12-07T00:00:00Z\",\"2020-12-14T00:00:00Z\",\"2020-12-21T00:00:00Z\",\"2020-12-28T00:00:00Z\"],\"prices\":[\"0.00216070\",\"0.00237156\",\"0.00230294\",\"0.00248379\",\"0.00323077\",\"0.00277169\",\"0.00267910\",\"0.00227789\",\"0.00218281\",\"0.00168442\",\"0.00173740\",\"0.00172652\",\"0.00185314\",\"0.00196105\",\"0.00204556\",\"0.00240478\",\"0.00250972\",\"0.00245609\",\"0.00252780\",\"0.00244375\",\"0.00255248\",\"0.00259883\",\"0.00249547\",\"0.00243387\",\"0.00231717\",\"0.00231074\",\"0.00364343\",\"0.00339937\",\"0.00325661\",\"0.00335824\",\"0.00347851\",\"0.00351118\",\"0.00339304\",\"0.00329487\",\"0.00279446\",\"0.00277935\",\"0.00277235\",\"0.00269602\",\"0.00263214\",\"0.00267895\",\"0.00258317\",\"0.00265832\",\"0.00258059\",\"0.00271194\",\"0.00276746\",\"0.00334606\",\"0.00343435\",\"0.00338769\",\"0.00326999\",\"0.00463533\",\"0.00456042\",\"0.00983721\"]}]\\n'\n"
     ]
    }
   ],
   "source": [
    "# import urllib.request\r\n",
    "# api_key = ''\r\n",
    "# crypto = 'DOGE'\r\n",
    "# interval = '1d'\r\n",
    "# # url = \"https://api.nomics.com/v1/currencies/ticker?key=\" + api_key + \\\r\n",
    "# #       \"&ids=\" + crypto + \"&interval=\" + interval + \"&convert=USD&per-page=100&page=1\"\r\n",
    "\r\n",
    "# start_date = '2020-01-01'\r\n",
    "# end_date = '2020-12-31'\r\n",
    "# url = \"https://api.nomics.com/v1/currencies/sparkline?key=\" + api_key + \\\r\n",
    "#       \"&ids=\" + crypto + \"&start=\" + start_date + \"T00%3A00%3A00Z&end=\" + end_date + \"T00%3A00%3A00Z\" + \"&interval=\" + interval\r\n",
    "\r\n",
    "# print(urllib.request.urlopen(url).read())"
   ]
  },
  {
   "cell_type": "code",
   "execution_count": 11,
   "metadata": {},
   "outputs": [],
   "source": [
    "# Description: This program attempts to predict the future price of Dogecoin"
   ]
  },
  {
   "cell_type": "code",
   "execution_count": 12,
   "metadata": {},
   "outputs": [],
   "source": [
    "# Import the libraries\r\n",
    "import numpy as np\r\n",
    "import pandas as pd"
   ]
  },
  {
   "cell_type": "code",
   "execution_count": 27,
   "metadata": {},
   "outputs": [
    {
     "data": {
      "text/html": [
       "<div>\n",
       "<style scoped>\n",
       "    .dataframe tbody tr th:only-of-type {\n",
       "        vertical-align: middle;\n",
       "    }\n",
       "\n",
       "    .dataframe tbody tr th {\n",
       "        vertical-align: top;\n",
       "    }\n",
       "\n",
       "    .dataframe thead th {\n",
       "        text-align: right;\n",
       "    }\n",
       "</style>\n",
       "<table border=\"1\" class=\"dataframe\">\n",
       "  <thead>\n",
       "    <tr style=\"text-align: right;\">\n",
       "      <th></th>\n",
       "      <th>PriceUSD</th>\n",
       "    </tr>\n",
       "    <tr>\n",
       "      <th>date</th>\n",
       "      <th></th>\n",
       "    </tr>\n",
       "  </thead>\n",
       "  <tbody>\n",
       "    <tr>\n",
       "      <th>2020-02-01</th>\n",
       "      <td>0.002390</td>\n",
       "    </tr>\n",
       "    <tr>\n",
       "      <th>2020-02-02</th>\n",
       "      <td>0.002469</td>\n",
       "    </tr>\n",
       "    <tr>\n",
       "      <th>2020-02-03</th>\n",
       "      <td>0.002413</td>\n",
       "    </tr>\n",
       "    <tr>\n",
       "      <th>2020-02-04</th>\n",
       "      <td>0.002492</td>\n",
       "    </tr>\n",
       "    <tr>\n",
       "      <th>2020-02-05</th>\n",
       "      <td>0.002564</td>\n",
       "    </tr>\n",
       "  </tbody>\n",
       "</table>\n",
       "</div>"
      ],
      "text/plain": [
       "            PriceUSD\n",
       "date                \n",
       "2020-02-01  0.002390\n",
       "2020-02-02  0.002469\n",
       "2020-02-03  0.002413\n",
       "2020-02-04  0.002492\n",
       "2020-02-05  0.002564"
      ]
     },
     "execution_count": 27,
     "metadata": {},
     "output_type": "execute_result"
    }
   ],
   "source": [
    "# Load the data\r\n",
    "df = pd.read_csv('doge.csv')\r\n",
    "\r\n",
    "# Set date as the index \r\n",
    "df.set_index(pd.DatetimeIndex(df['date']), inplace=True)\r\n",
    "\r\n",
    "# Remove unwanted data\r\n",
    "df = df[['PriceUSD']]\r\n",
    "df = df.iloc[2200:,:]\r\n",
    "\r\n",
    "# Show the data\r\n",
    "df.head()"
   ]
  },
  {
   "cell_type": "code",
   "execution_count": 28,
   "metadata": {},
   "outputs": [
    {
     "data": {
      "text/html": [
       "<div>\n",
       "<style scoped>\n",
       "    .dataframe tbody tr th:only-of-type {\n",
       "        vertical-align: middle;\n",
       "    }\n",
       "\n",
       "    .dataframe tbody tr th {\n",
       "        vertical-align: top;\n",
       "    }\n",
       "\n",
       "    .dataframe thead th {\n",
       "        text-align: right;\n",
       "    }\n",
       "</style>\n",
       "<table border=\"1\" class=\"dataframe\">\n",
       "  <thead>\n",
       "    <tr style=\"text-align: right;\">\n",
       "      <th></th>\n",
       "      <th>PriceUSD</th>\n",
       "      <th>Prediction</th>\n",
       "    </tr>\n",
       "    <tr>\n",
       "      <th>date</th>\n",
       "      <th></th>\n",
       "      <th></th>\n",
       "    </tr>\n",
       "  </thead>\n",
       "  <tbody>\n",
       "    <tr>\n",
       "      <th>2020-02-01</th>\n",
       "      <td>0.002390</td>\n",
       "      <td>0.002469</td>\n",
       "    </tr>\n",
       "    <tr>\n",
       "      <th>2020-02-02</th>\n",
       "      <td>0.002469</td>\n",
       "      <td>0.002413</td>\n",
       "    </tr>\n",
       "    <tr>\n",
       "      <th>2020-02-03</th>\n",
       "      <td>0.002413</td>\n",
       "      <td>0.002492</td>\n",
       "    </tr>\n",
       "    <tr>\n",
       "      <th>2020-02-04</th>\n",
       "      <td>0.002492</td>\n",
       "      <td>0.002564</td>\n",
       "    </tr>\n",
       "    <tr>\n",
       "      <th>2020-02-05</th>\n",
       "      <td>0.002564</td>\n",
       "      <td>0.002663</td>\n",
       "    </tr>\n",
       "    <tr>\n",
       "      <th>...</th>\n",
       "      <td>...</td>\n",
       "      <td>...</td>\n",
       "    </tr>\n",
       "    <tr>\n",
       "      <th>2021-06-22</th>\n",
       "      <td>0.188829</td>\n",
       "      <td>0.234789</td>\n",
       "    </tr>\n",
       "    <tr>\n",
       "      <th>2021-06-23</th>\n",
       "      <td>0.234789</td>\n",
       "      <td>0.263518</td>\n",
       "    </tr>\n",
       "    <tr>\n",
       "      <th>2021-06-24</th>\n",
       "      <td>0.263518</td>\n",
       "      <td>0.240247</td>\n",
       "    </tr>\n",
       "    <tr>\n",
       "      <th>2021-06-25</th>\n",
       "      <td>0.240247</td>\n",
       "      <td>0.240943</td>\n",
       "    </tr>\n",
       "    <tr>\n",
       "      <th>2021-06-26</th>\n",
       "      <td>0.240943</td>\n",
       "      <td>NaN</td>\n",
       "    </tr>\n",
       "  </tbody>\n",
       "</table>\n",
       "<p>512 rows × 2 columns</p>\n",
       "</div>"
      ],
      "text/plain": [
       "            PriceUSD  Prediction\n",
       "date                            \n",
       "2020-02-01  0.002390    0.002469\n",
       "2020-02-02  0.002469    0.002413\n",
       "2020-02-03  0.002413    0.002492\n",
       "2020-02-04  0.002492    0.002564\n",
       "2020-02-05  0.002564    0.002663\n",
       "...              ...         ...\n",
       "2021-06-22  0.188829    0.234789\n",
       "2021-06-23  0.234789    0.263518\n",
       "2021-06-24  0.263518    0.240247\n",
       "2021-06-25  0.240247    0.240943\n",
       "2021-06-26  0.240943         NaN\n",
       "\n",
       "[512 rows x 2 columns]"
      ]
     },
     "execution_count": 28,
     "metadata": {},
     "output_type": "execute_result"
    }
   ],
   "source": [
    "# Create a variable to store the number of days into the future that we want to predict\r\n",
    "prediction_days = 1\r\n",
    "\r\n",
    "# Create a new column called Prediction\r\n",
    "df['Prediction'] = df['PriceUSD'].shift(-prediction_days)\r\n",
    "\r\n",
    "# Show the data\r\n",
    "df"
   ]
  },
  {
   "cell_type": "code",
   "execution_count": 33,
   "metadata": {},
   "outputs": [
    {
     "data": {
      "text/plain": [
       "array([[0.3206744 ],\n",
       "       [0.30715372],\n",
       "       [0.30584986],\n",
       "       [0.29246527],\n",
       "       [0.28729606],\n",
       "       [0.28066914],\n",
       "       [0.17918748],\n",
       "       [0.18882902],\n",
       "       [0.23478921],\n",
       "       [0.26351766]])"
      ]
     },
     "execution_count": 33,
     "metadata": {},
     "output_type": "execute_result"
    }
   ],
   "source": [
    "# Create the independent dataset (X)\r\n",
    "X = np.array(df.drop(['Prediction'], 1))\r\n",
    "\r\n",
    "# Remove the last n+1 rows of data where n is the prediction_days\r\n",
    "X = X[: len(df) - prediction_days - 1]\r\n",
    "\r\n",
    "# Show the data\r\n",
    "X[-10:]"
   ]
  },
  {
   "cell_type": "code",
   "execution_count": 32,
   "metadata": {},
   "outputs": [
    {
     "data": {
      "text/plain": [
       "array([0.30715372, 0.30584986, 0.29246527, 0.28729606, 0.28066914,\n",
       "       0.17918748, 0.18882902, 0.23478921, 0.26351766, 0.24024652])"
      ]
     },
     "execution_count": 32,
     "metadata": {},
     "output_type": "execute_result"
    }
   ],
   "source": [
    "# Create a dependent dataset(y)\r\n",
    "y = np.array(df['Prediction'])\r\n",
    "\r\n",
    "# Get all of the y values except the last n+1 rows\r\n",
    "y = y[: -prediction_days-1]\r\n",
    "\r\n",
    "# Show the data\r\n",
    "y[-10:]"
   ]
  },
  {
   "cell_type": "code",
   "execution_count": 35,
   "metadata": {},
   "outputs": [
    {
     "name": "stdout",
     "output_type": "stream",
     "text": [
      "Collecting sklearn\n",
      "  Using cached sklearn-0.0.tar.gz (1.1 kB)\n",
      "Collecting scikit-learn\n",
      "  Downloading scikit_learn-0.24.2-cp39-cp39-win_amd64.whl (6.9 MB)\n",
      "Collecting scipy>=0.19.1\n",
      "  Downloading scipy-1.7.0-cp39-cp39-win_amd64.whl (33.8 MB)\n",
      "Requirement already satisfied: numpy>=1.13.3 in c:\\users\\puthr\\appdata\\local\\programs\\python\\python39\\lib\\site-packages (from scikit-learn->sklearn) (1.20.3)\n",
      "Collecting threadpoolctl>=2.0.0\n",
      "  Using cached threadpoolctl-2.1.0-py3-none-any.whl (12 kB)\n",
      "Collecting joblib>=0.11\n",
      "  Downloading joblib-1.0.1-py3-none-any.whl (303 kB)\n",
      "Using legacy 'setup.py install' for sklearn, since package 'wheel' is not installed.\n",
      "Installing collected packages: threadpoolctl, scipy, joblib, scikit-learn, sklearn\n",
      "    Running setup.py install for sklearn: started\n",
      "    Running setup.py install for sklearn: finished with status 'done'\n",
      "Successfully installed joblib-1.0.1 scikit-learn-0.24.2 scipy-1.7.0 sklearn-0.0 threadpoolctl-2.1.0\n"
     ]
    }
   ],
   "source": [
    "# !pip install sklearn"
   ]
  },
  {
   "cell_type": "code",
   "execution_count": 36,
   "metadata": {},
   "outputs": [],
   "source": [
    "# Split the data into train and test dataset\r\n",
    "from sklearn.model_selection import train_test_split\r\n",
    "\r\n",
    "x_train, x_test, y_train, y_test = train_test_split(X, y, test_size = 0.2)  "
   ]
  },
  {
   "cell_type": "code",
   "execution_count": 39,
   "metadata": {},
   "outputs": [
    {
     "name": "stdout",
     "output_type": "stream",
     "text": [
      "0.9496067955111462\n"
     ]
    }
   ],
   "source": [
    "from sklearn.ensemble import RandomForestRegressor\r\n",
    "\r\n",
    "forest = RandomForestRegressor(n_estimators = 2, random_state = 587)\r\n",
    "forest.fit(x_train, y_train)\r\n",
    "print(forest.score(x_test, y_test))"
   ]
  },
  {
   "cell_type": "code",
   "execution_count": 40,
   "metadata": {},
   "outputs": [
    {
     "name": "stdout",
     "output_type": "stream",
     "text": [
      "[0.00197063 0.00261834 0.00181496 0.00251305 0.00275109 0.00261834\n",
      " 0.00232458 0.00256445 0.00272815 0.00311065 0.31929102 0.05144286\n",
      " 0.00242425 0.22617334 0.25905308 0.00284642 0.00453796 0.40528833\n",
      " 0.00261834 0.00185949 0.00264089 0.40528833 0.00210012 0.00344347\n",
      " 0.01030772 0.0032178  0.0034584  0.1220027  0.0027274  0.05405095\n",
      " 0.00344    0.0504182  0.00263743 0.0019295  0.00245752 0.00360488\n",
      " 0.05663639 0.00260422 0.00332727 0.00263317 0.00249171 0.00315519\n",
      " 0.00384714 0.31929102 0.05403362 0.00252266 0.22617334 0.31186969\n",
      " 0.09307335 0.00273411 0.05742943 0.00186709 0.00343888 0.00308966\n",
      " 0.00973015 0.00262512 0.00265579 0.00265785 0.00256602 0.05484354\n",
      " 0.00261597 0.29038787 0.05599572 0.00162372 0.00323671 0.00339019\n",
      " 0.2839826  0.00353832 0.05144286 0.00254801 0.00277354 0.00262452\n",
      " 0.00870081 0.49579423 0.0034584  0.00248037 0.00292296 0.00210012\n",
      " 0.00184372 0.00322578 0.00343888 0.49101729 0.00256161 0.05424381\n",
      " 0.00339019 0.00232458 0.40528833 0.0592477  0.00172901 0.0032791\n",
      " 0.04858675 0.00198082 0.40528833 0.00484081 0.02909805 0.00278094\n",
      " 0.00331059 0.0032583  0.00275004 0.00801165 0.00265738 0.02909805]\n",
      "\n",
      "[0.00203086 0.00265016 0.00176319 0.00250993 0.00277759 0.0026688\n",
      " 0.00232646 0.0024901  0.002444   0.0031705  0.34404145 0.04679744\n",
      " 0.00229302 0.23478921 0.27120512 0.00279111 0.00457742 0.37406948\n",
      " 0.00258041 0.00184181 0.00252439 0.32745745 0.00204713 0.00317144\n",
      " 0.00971064 0.0032733  0.00335604 0.17773336 0.00271455 0.06132726\n",
      " 0.00325096 0.05043583 0.00266354 0.00194368 0.0024704  0.00330617\n",
      " 0.05539917 0.00259199 0.00328336 0.00259126 0.00243275 0.00306798\n",
      " 0.00459606 0.30835049 0.05407923 0.00251011 0.3754271  0.37118653\n",
      " 0.06961159 0.00265633 0.05623937 0.00219102 0.00360211 0.00349461\n",
      " 0.01001456 0.00249947 0.0026759  0.00283966 0.00246628 0.05930489\n",
      " 0.00262011 0.42634578 0.05783595 0.00158946 0.00331227 0.00338891\n",
      " 0.32229974 0.00352669 0.04728974 0.00266623 0.00275679 0.00266311\n",
      " 0.00836004 0.47658966 0.00337455 0.00251355 0.0030114  0.00194855\n",
      " 0.00203388 0.00323495 0.00337357 0.54851209 0.00251339 0.05368828\n",
      " 0.00330411 0.00229771 0.30715372 0.06139196 0.00171868 0.00344252\n",
      " 0.05118447 0.00201696 0.3206744  0.00473463 0.05060256 0.00280924\n",
      " 0.00316415 0.00299188 0.00267927 0.0084978  0.00267437 0.06002378]\n"
     ]
    }
   ],
   "source": [
    "# Show how close the predicted values and the actual values are\r\n",
    "predicted = forest.predict(x_test)\r\n",
    "\r\n",
    "print(predicted)\r\n",
    "print()\r\n",
    "\r\n",
    "print(y_test)"
   ]
  },
  {
   "cell_type": "code",
   "execution_count": 42,
   "metadata": {},
   "outputs": [
    {
     "name": "stdout",
     "output_type": "stream",
     "text": [
      "0.240246524\n"
     ]
    }
   ],
   "source": [
    "# Get the validation data of the model\r\n",
    "# Create a variable to store all of the rows in the data set except the last n rows\r\n",
    "temp_df = df[: -prediction_days]\r\n",
    "\r\n",
    "# Create a variable to store the independent price value\r\n",
    "x_value = temp_df.tail(1)['PriceUSD'][0]\r\n",
    "\r\n",
    "print(x_value)"
   ]
  },
  {
   "cell_type": "code",
   "execution_count": 47,
   "metadata": {},
   "outputs": [
    {
     "name": "stdout",
     "output_type": "stream",
     "text": [
      "The price of Dogecoin in 1 day(s) is predicted to be 0.26351766\n",
      "The actual price was 0.24094331\n"
     ]
    }
   ],
   "source": [
    "prediction = forest.predict([[x_value]])\r\n",
    "\r\n",
    "print('The price of Dogecoin in', prediction_days, 'day(s) is predicted to be', prediction[0])\r\n",
    "\r\n",
    "print('The actual price was', temp_df.tail(1)['Prediction'][0])"
   ]
  },
  {
   "cell_type": "code",
   "execution_count": null,
   "metadata": {},
   "outputs": [],
   "source": []
  }
 ],
 "metadata": {
  "interpreter": {
   "hash": "5d7dc3740d4a340abe12a9b82a43b175de9fa685c1e73eb3b848ef6cb4c64b3a"
  },
  "kernelspec": {
   "display_name": "Python 3.9.5 64-bit",
   "name": "python3"
  },
  "language_info": {
   "codemirror_mode": {
    "name": "ipython",
    "version": 3
   },
   "file_extension": ".py",
   "mimetype": "text/x-python",
   "name": "python",
   "nbconvert_exporter": "python",
   "pygments_lexer": "ipython3",
   "version": "3.9.5"
  },
  "orig_nbformat": 4
 },
 "nbformat": 4,
 "nbformat_minor": 2
}