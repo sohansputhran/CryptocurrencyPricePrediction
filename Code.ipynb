{
 "cells": [
  {
   "cell_type": "code",
   "execution_count": 10,
   "metadata": {},
   "outputs": [
    {
     "name": "stdout",
     "output_type": "stream",
     "text": [
      "b'[{\"currency\":\"DOGE\",\"timestamps\":[\"2020-01-06T00:00:00Z\",\"2020-01-13T00:00:00Z\",\"2020-01-20T00:00:00Z\",\"2020-01-27T00:00:00Z\",\"2020-02-03T00:00:00Z\",\"2020-02-10T00:00:00Z\",\"2020-02-17T00:00:00Z\",\"2020-02-24T00:00:00Z\",\"2020-03-02T00:00:00Z\",\"2020-03-09T00:00:00Z\",\"2020-03-16T00:00:00Z\",\"2020-03-23T00:00:00Z\",\"2020-03-30T00:00:00Z\",\"2020-04-06T00:00:00Z\",\"2020-04-13T00:00:00Z\",\"2020-04-20T00:00:00Z\",\"2020-04-27T00:00:00Z\",\"2020-05-04T00:00:00Z\",\"2020-05-11T00:00:00Z\",\"2020-05-18T00:00:00Z\",\"2020-05-25T00:00:00Z\",\"2020-06-01T00:00:00Z\",\"2020-06-08T00:00:00Z\",\"2020-06-15T00:00:00Z\",\"2020-06-22T00:00:00Z\",\"2020-06-29T00:00:00Z\",\"2020-07-06T00:00:00Z\",\"2020-07-13T00:00:00Z\",\"2020-07-20T00:00:00Z\",\"2020-07-27T00:00:00Z\",\"2020-08-03T00:00:00Z\",\"2020-08-10T00:00:00Z\",\"2020-08-17T00:00:00Z\",\"2020-08-24T00:00:00Z\",\"2020-08-31T00:00:00Z\",\"2020-09-07T00:00:00Z\",\"2020-09-14T00:00:00Z\",\"2020-09-21T00:00:00Z\",\"2020-09-28T00:00:00Z\",\"2020-10-05T00:00:00Z\",\"2020-10-12T00:00:00Z\",\"2020-10-19T00:00:00Z\",\"2020-10-26T00:00:00Z\",\"2020-11-02T00:00:00Z\",\"2020-11-09T00:00:00Z\",\"2020-11-16T00:00:00Z\",\"2020-11-23T00:00:00Z\",\"2020-11-30T00:00:00Z\",\"2020-12-07T00:00:00Z\",\"2020-12-14T00:00:00Z\",\"2020-12-21T00:00:00Z\",\"2020-12-28T00:00:00Z\"],\"prices\":[\"0.00216070\",\"0.00237156\",\"0.00230294\",\"0.00248379\",\"0.00323077\",\"0.00277169\",\"0.00267910\",\"0.00227789\",\"0.00218281\",\"0.00168442\",\"0.00173740\",\"0.00172652\",\"0.00185314\",\"0.00196105\",\"0.00204556\",\"0.00240478\",\"0.00250972\",\"0.00245609\",\"0.00252780\",\"0.00244375\",\"0.00255248\",\"0.00259883\",\"0.00249547\",\"0.00243387\",\"0.00231717\",\"0.00231074\",\"0.00364343\",\"0.00339937\",\"0.00325661\",\"0.00335824\",\"0.00347851\",\"0.00351118\",\"0.00339304\",\"0.00329487\",\"0.00279446\",\"0.00277935\",\"0.00277235\",\"0.00269602\",\"0.00263214\",\"0.00267895\",\"0.00258317\",\"0.00265832\",\"0.00258059\",\"0.00271194\",\"0.00276746\",\"0.00334606\",\"0.00343435\",\"0.00338769\",\"0.00326999\",\"0.00463533\",\"0.00456042\",\"0.00983721\"]}]\\n'\n"
     ]
    }
   ],
   "source": [
    "# import urllib.request\r\n",
    "# api_key = ''\r\n",
    "# crypto = 'DOGE'\r\n",
    "# interval = '1d'\r\n",
    "# # url = \"https://api.nomics.com/v1/currencies/ticker?key=\" + api_key + \\\r\n",
    "# #       \"&ids=\" + crypto + \"&interval=\" + interval + \"&convert=USD&per-page=100&page=1\"\r\n",
    "\r\n",
    "# start_date = '2020-01-01'\r\n",
    "# end_date = '2020-12-31'\r\n",
    "# url = \"https://api.nomics.com/v1/currencies/sparkline?key=\" + api_key + \\\r\n",
    "#       \"&ids=\" + crypto + \"&start=\" + start_date + \"T00%3A00%3A00Z&end=\" + end_date + \"T00%3A00%3A00Z\" + \"&interval=\" + interval\r\n",
    "\r\n",
    "# print(urllib.request.urlopen(url).read())"
   ]
  },
  {
   "cell_type": "code",
   "execution_count": 11,
   "metadata": {},
   "outputs": [],
   "source": [
    "# Description: This program attempts to predict the future price of Dogecoin"
   ]
  },
  {
   "cell_type": "code",
   "execution_count": 12,
   "metadata": {},
   "outputs": [],
   "source": [
    "# Import the libraries\r\n",
    "import numpy as np\r\n",
    "import pandas as pd"
   ]
  },
  {
   "cell_type": "code",
   "execution_count": 18,
   "metadata": {},
   "outputs": [
    {
     "data": {
      "text/html": [
       "<div>\n",
       "<style scoped>\n",
       "    .dataframe tbody tr th:only-of-type {\n",
       "        vertical-align: middle;\n",
       "    }\n",
       "\n",
       "    .dataframe tbody tr th {\n",
       "        vertical-align: top;\n",
       "    }\n",
       "\n",
       "    .dataframe thead th {\n",
       "        text-align: right;\n",
       "    }\n",
       "</style>\n",
       "<table border=\"1\" class=\"dataframe\">\n",
       "  <thead>\n",
       "    <tr style=\"text-align: right;\">\n",
       "      <th></th>\n",
       "      <th>PriceUSD</th>\n",
       "    </tr>\n",
       "    <tr>\n",
       "      <th>date</th>\n",
       "      <th></th>\n",
       "    </tr>\n",
       "  </thead>\n",
       "  <tbody>\n",
       "    <tr>\n",
       "      <th>2014-01-23</th>\n",
       "      <td>0.001541</td>\n",
       "    </tr>\n",
       "    <tr>\n",
       "      <th>2014-01-24</th>\n",
       "      <td>0.001888</td>\n",
       "    </tr>\n",
       "    <tr>\n",
       "      <th>2014-01-25</th>\n",
       "      <td>0.001937</td>\n",
       "    </tr>\n",
       "    <tr>\n",
       "      <th>2014-01-26</th>\n",
       "      <td>0.001937</td>\n",
       "    </tr>\n",
       "    <tr>\n",
       "      <th>2014-01-27</th>\n",
       "      <td>0.001618</td>\n",
       "    </tr>\n",
       "  </tbody>\n",
       "</table>\n",
       "</div>"
      ],
      "text/plain": [
       "            PriceUSD\n",
       "date                \n",
       "2014-01-23  0.001541\n",
       "2014-01-24  0.001888\n",
       "2014-01-25  0.001937\n",
       "2014-01-26  0.001937\n",
       "2014-01-27  0.001618"
      ]
     },
     "execution_count": 18,
     "metadata": {},
     "output_type": "execute_result"
    }
   ],
   "source": [
    "# Load the data\r\n",
    "df = pd.read_csv('doge.csv')\r\n",
    "\r\n",
    "# Set date as the index \r\n",
    "df.set_index(pd.DatetimeIndex(df['date']), inplace=True)\r\n",
    "\r\n",
    "# Remove unwanted data\r\n",
    "df = df[['PriceUSD']]\r\n",
    "\r\n",
    "# Show the data\r\n",
    "df.head()"
   ]
  },
  {
   "cell_type": "code",
   "execution_count": 19,
   "metadata": {},
   "outputs": [
    {
     "data": {
      "text/html": [
       "<div>\n",
       "<style scoped>\n",
       "    .dataframe tbody tr th:only-of-type {\n",
       "        vertical-align: middle;\n",
       "    }\n",
       "\n",
       "    .dataframe tbody tr th {\n",
       "        vertical-align: top;\n",
       "    }\n",
       "\n",
       "    .dataframe thead th {\n",
       "        text-align: right;\n",
       "    }\n",
       "</style>\n",
       "<table border=\"1\" class=\"dataframe\">\n",
       "  <thead>\n",
       "    <tr style=\"text-align: right;\">\n",
       "      <th></th>\n",
       "      <th>PriceUSD</th>\n",
       "      <th>Prediction</th>\n",
       "    </tr>\n",
       "    <tr>\n",
       "      <th>date</th>\n",
       "      <th></th>\n",
       "      <th></th>\n",
       "    </tr>\n",
       "  </thead>\n",
       "  <tbody>\n",
       "    <tr>\n",
       "      <th>2014-01-23</th>\n",
       "      <td>0.001541</td>\n",
       "      <td>0.001888</td>\n",
       "    </tr>\n",
       "    <tr>\n",
       "      <th>2014-01-24</th>\n",
       "      <td>0.001888</td>\n",
       "      <td>0.001937</td>\n",
       "    </tr>\n",
       "    <tr>\n",
       "      <th>2014-01-25</th>\n",
       "      <td>0.001937</td>\n",
       "      <td>0.001937</td>\n",
       "    </tr>\n",
       "    <tr>\n",
       "      <th>2014-01-26</th>\n",
       "      <td>0.001937</td>\n",
       "      <td>0.001618</td>\n",
       "    </tr>\n",
       "    <tr>\n",
       "      <th>2014-01-27</th>\n",
       "      <td>0.001618</td>\n",
       "      <td>0.001651</td>\n",
       "    </tr>\n",
       "    <tr>\n",
       "      <th>...</th>\n",
       "      <td>...</td>\n",
       "      <td>...</td>\n",
       "    </tr>\n",
       "    <tr>\n",
       "      <th>2021-06-22</th>\n",
       "      <td>0.188829</td>\n",
       "      <td>0.234789</td>\n",
       "    </tr>\n",
       "    <tr>\n",
       "      <th>2021-06-23</th>\n",
       "      <td>0.234789</td>\n",
       "      <td>0.263518</td>\n",
       "    </tr>\n",
       "    <tr>\n",
       "      <th>2021-06-24</th>\n",
       "      <td>0.263518</td>\n",
       "      <td>0.240247</td>\n",
       "    </tr>\n",
       "    <tr>\n",
       "      <th>2021-06-25</th>\n",
       "      <td>0.240247</td>\n",
       "      <td>0.240943</td>\n",
       "    </tr>\n",
       "    <tr>\n",
       "      <th>2021-06-26</th>\n",
       "      <td>0.240943</td>\n",
       "      <td>NaN</td>\n",
       "    </tr>\n",
       "  </tbody>\n",
       "</table>\n",
       "<p>2712 rows × 2 columns</p>\n",
       "</div>"
      ],
      "text/plain": [
       "            PriceUSD  Prediction\n",
       "date                            \n",
       "2014-01-23  0.001541    0.001888\n",
       "2014-01-24  0.001888    0.001937\n",
       "2014-01-25  0.001937    0.001937\n",
       "2014-01-26  0.001937    0.001618\n",
       "2014-01-27  0.001618    0.001651\n",
       "...              ...         ...\n",
       "2021-06-22  0.188829    0.234789\n",
       "2021-06-23  0.234789    0.263518\n",
       "2021-06-24  0.263518    0.240247\n",
       "2021-06-25  0.240247    0.240943\n",
       "2021-06-26  0.240943         NaN\n",
       "\n",
       "[2712 rows x 2 columns]"
      ]
     },
     "execution_count": 19,
     "metadata": {},
     "output_type": "execute_result"
    }
   ],
   "source": [
    "# Create a variable to store the number of days into the future that we want to predict\r\n",
    "prediction_days = 1\r\n",
    "\r\n",
    "# Create a new column called Prediction\r\n",
    "df['Prediction'] = df['PriceUSD'].shift(-prediction_days)\r\n",
    "\r\n",
    "# Show the data\r\n",
    "df"
   ]
  },
  {
   "cell_type": "code",
   "execution_count": null,
   "metadata": {},
   "outputs": [],
   "source": []
  }
 ],
 "metadata": {
  "interpreter": {
   "hash": "5d7dc3740d4a340abe12a9b82a43b175de9fa685c1e73eb3b848ef6cb4c64b3a"
  },
  "kernelspec": {
   "display_name": "Python 3.9.5 64-bit",
   "name": "python3"
  },
  "language_info": {
   "codemirror_mode": {
    "name": "ipython",
    "version": 3
   },
   "file_extension": ".py",
   "mimetype": "text/x-python",
   "name": "python",
   "nbconvert_exporter": "python",
   "pygments_lexer": "ipython3",
   "version": "3.9.5"
  },
  "orig_nbformat": 4
 },
 "nbformat": 4,
 "nbformat_minor": 2
}