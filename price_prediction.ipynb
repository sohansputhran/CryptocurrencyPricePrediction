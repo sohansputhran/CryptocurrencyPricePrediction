{
 "cells": [
  {
   "cell_type": "code",
   "execution_count": 1,
   "metadata": {},
   "outputs": [],
   "source": [
    "# import urllib.request\r\n",
    "# api_key = ''\r\n",
    "# crypto = 'DOGE'\r\n",
    "# interval = '1d'\r\n",
    "# # url = \"https://api.nomics.com/v1/currencies/ticker?key=\" + api_key + \\\r\n",
    "# #       \"&ids=\" + crypto + \"&interval=\" + interval + \"&convert=USD&per-page=100&page=1\"\r\n",
    "\r\n",
    "# start_date = '2020-01-01'\r\n",
    "# end_date = '2020-12-31'\r\n",
    "# url = \"https://api.nomics.com/v1/currencies/sparkline?key=\" + api_key + \\\r\n",
    "#       \"&ids=\" + crypto + \"&start=\" + start_date + \"T00%3A00%3A00Z&end=\" + end_date + \"T00%3A00%3A00Z\" + \"&interval=\" + interval\r\n",
    "\r\n",
    "# print(urllib.request.urlopen(url).read())"
   ]
  },
  {
   "cell_type": "code",
   "execution_count": 4,
   "metadata": {},
   "outputs": [],
   "source": [
    "# Import the libraries\r\n",
    "import numpy as np\r\n",
    "import pandas as pd"
   ]
  },
  {
   "cell_type": "code",
   "execution_count": 5,
   "metadata": {},
   "outputs": [
    {
     "data": {
      "text/html": [
       "<div>\n",
       "<style scoped>\n",
       "    .dataframe tbody tr th:only-of-type {\n",
       "        vertical-align: middle;\n",
       "    }\n",
       "\n",
       "    .dataframe tbody tr th {\n",
       "        vertical-align: top;\n",
       "    }\n",
       "\n",
       "    .dataframe thead th {\n",
       "        text-align: right;\n",
       "    }\n",
       "</style>\n",
       "<table border=\"1\" class=\"dataframe\">\n",
       "  <thead>\n",
       "    <tr style=\"text-align: right;\">\n",
       "      <th></th>\n",
       "      <th>PriceUSD</th>\n",
       "    </tr>\n",
       "    <tr>\n",
       "      <th>date</th>\n",
       "      <th></th>\n",
       "    </tr>\n",
       "  </thead>\n",
       "  <tbody>\n",
       "    <tr>\n",
       "      <th>2020-05-11</th>\n",
       "      <td>0.002406</td>\n",
       "    </tr>\n",
       "    <tr>\n",
       "      <th>2020-05-12</th>\n",
       "      <td>0.002433</td>\n",
       "    </tr>\n",
       "    <tr>\n",
       "      <th>2020-05-13</th>\n",
       "      <td>0.002564</td>\n",
       "    </tr>\n",
       "    <tr>\n",
       "      <th>2020-05-14</th>\n",
       "      <td>0.002587</td>\n",
       "    </tr>\n",
       "    <tr>\n",
       "      <th>2020-05-15</th>\n",
       "      <td>0.002482</td>\n",
       "    </tr>\n",
       "  </tbody>\n",
       "</table>\n",
       "</div>"
      ],
      "text/plain": [
       "            PriceUSD\n",
       "date                \n",
       "2020-05-11  0.002406\n",
       "2020-05-12  0.002433\n",
       "2020-05-13  0.002564\n",
       "2020-05-14  0.002587\n",
       "2020-05-15  0.002482"
      ]
     },
     "execution_count": 5,
     "metadata": {},
     "output_type": "execute_result"
    }
   ],
   "source": [
    "# Load the data\r\n",
    "df = pd.read_csv('doge.csv')\r\n",
    "\r\n",
    "# Set date as the index \r\n",
    "df.set_index(pd.DatetimeIndex(df['date']), inplace=True)\r\n",
    "\r\n",
    "# Remove unwanted data\r\n",
    "df = df[['PriceUSD']]\r\n",
    "df = df.iloc[2300:,:]\r\n",
    "\r\n",
    "# Show the data\r\n",
    "df.head()"
   ]
  },
  {
   "cell_type": "code",
   "execution_count": 6,
   "metadata": {},
   "outputs": [
    {
     "data": {
      "text/html": [
       "<div>\n",
       "<style scoped>\n",
       "    .dataframe tbody tr th:only-of-type {\n",
       "        vertical-align: middle;\n",
       "    }\n",
       "\n",
       "    .dataframe tbody tr th {\n",
       "        vertical-align: top;\n",
       "    }\n",
       "\n",
       "    .dataframe thead th {\n",
       "        text-align: right;\n",
       "    }\n",
       "</style>\n",
       "<table border=\"1\" class=\"dataframe\">\n",
       "  <thead>\n",
       "    <tr style=\"text-align: right;\">\n",
       "      <th></th>\n",
       "      <th>PriceUSD</th>\n",
       "      <th>Prediction</th>\n",
       "    </tr>\n",
       "    <tr>\n",
       "      <th>date</th>\n",
       "      <th></th>\n",
       "      <th></th>\n",
       "    </tr>\n",
       "  </thead>\n",
       "  <tbody>\n",
       "    <tr>\n",
       "      <th>2020-05-11</th>\n",
       "      <td>0.002406</td>\n",
       "      <td>0.002433</td>\n",
       "    </tr>\n",
       "    <tr>\n",
       "      <th>2020-05-12</th>\n",
       "      <td>0.002433</td>\n",
       "      <td>0.002564</td>\n",
       "    </tr>\n",
       "    <tr>\n",
       "      <th>2020-05-13</th>\n",
       "      <td>0.002564</td>\n",
       "      <td>0.002587</td>\n",
       "    </tr>\n",
       "    <tr>\n",
       "      <th>2020-05-14</th>\n",
       "      <td>0.002587</td>\n",
       "      <td>0.002482</td>\n",
       "    </tr>\n",
       "    <tr>\n",
       "      <th>2020-05-15</th>\n",
       "      <td>0.002482</td>\n",
       "      <td>0.002470</td>\n",
       "    </tr>\n",
       "    <tr>\n",
       "      <th>...</th>\n",
       "      <td>...</td>\n",
       "      <td>...</td>\n",
       "    </tr>\n",
       "    <tr>\n",
       "      <th>2021-06-22</th>\n",
       "      <td>0.188829</td>\n",
       "      <td>0.234789</td>\n",
       "    </tr>\n",
       "    <tr>\n",
       "      <th>2021-06-23</th>\n",
       "      <td>0.234789</td>\n",
       "      <td>0.263518</td>\n",
       "    </tr>\n",
       "    <tr>\n",
       "      <th>2021-06-24</th>\n",
       "      <td>0.263518</td>\n",
       "      <td>0.240247</td>\n",
       "    </tr>\n",
       "    <tr>\n",
       "      <th>2021-06-25</th>\n",
       "      <td>0.240247</td>\n",
       "      <td>0.240943</td>\n",
       "    </tr>\n",
       "    <tr>\n",
       "      <th>2021-06-26</th>\n",
       "      <td>0.240943</td>\n",
       "      <td>NaN</td>\n",
       "    </tr>\n",
       "  </tbody>\n",
       "</table>\n",
       "<p>412 rows × 2 columns</p>\n",
       "</div>"
      ],
      "text/plain": [
       "            PriceUSD  Prediction\n",
       "date                            \n",
       "2020-05-11  0.002406    0.002433\n",
       "2020-05-12  0.002433    0.002564\n",
       "2020-05-13  0.002564    0.002587\n",
       "2020-05-14  0.002587    0.002482\n",
       "2020-05-15  0.002482    0.002470\n",
       "...              ...         ...\n",
       "2021-06-22  0.188829    0.234789\n",
       "2021-06-23  0.234789    0.263518\n",
       "2021-06-24  0.263518    0.240247\n",
       "2021-06-25  0.240247    0.240943\n",
       "2021-06-26  0.240943         NaN\n",
       "\n",
       "[412 rows x 2 columns]"
      ]
     },
     "execution_count": 6,
     "metadata": {},
     "output_type": "execute_result"
    }
   ],
   "source": [
    "# Create a variable to store the number of days into the future that we want to predict\r\n",
    "prediction_days = 1\r\n",
    "\r\n",
    "# Create a new column called Prediction\r\n",
    "df['Prediction'] = df['PriceUSD'].shift(-prediction_days)\r\n",
    "\r\n",
    "# Show the data\r\n",
    "df"
   ]
  },
  {
   "cell_type": "code",
   "execution_count": 7,
   "metadata": {},
   "outputs": [
    {
     "data": {
      "text/plain": [
       "array([[0.3206744 ],\n",
       "       [0.30715372],\n",
       "       [0.30584986],\n",
       "       [0.29246527],\n",
       "       [0.28729606],\n",
       "       [0.28066914],\n",
       "       [0.17918748],\n",
       "       [0.18882902],\n",
       "       [0.23478921],\n",
       "       [0.26351766]])"
      ]
     },
     "execution_count": 7,
     "metadata": {},
     "output_type": "execute_result"
    }
   ],
   "source": [
    "# Create the independent dataset (X)\r\n",
    "X = np.array(df.drop(['Prediction'], 1))\r\n",
    "\r\n",
    "# Remove the last n+1 rows of data where n is the prediction_days\r\n",
    "X = X[: len(df) - prediction_days - 1]\r\n",
    "\r\n",
    "# Show the data\r\n",
    "X[-10:]"
   ]
  },
  {
   "cell_type": "code",
   "execution_count": 8,
   "metadata": {},
   "outputs": [
    {
     "data": {
      "text/plain": [
       "array([0.30715372, 0.30584986, 0.29246527, 0.28729606, 0.28066914,\n",
       "       0.17918748, 0.18882902, 0.23478921, 0.26351766, 0.24024652])"
      ]
     },
     "execution_count": 8,
     "metadata": {},
     "output_type": "execute_result"
    }
   ],
   "source": [
    "# Create a dependent dataset(y)\r\n",
    "y = np.array(df['Prediction'])\r\n",
    "\r\n",
    "# Get all of the y values except the last n+1 rows\r\n",
    "y = y[: -prediction_days-1]\r\n",
    "\r\n",
    "# Show the data\r\n",
    "y[-10:]"
   ]
  },
  {
   "cell_type": "code",
   "execution_count": 9,
   "metadata": {},
   "outputs": [],
   "source": [
    "# !pip install sklearn"
   ]
  },
  {
   "cell_type": "code",
   "execution_count": 10,
   "metadata": {},
   "outputs": [],
   "source": [
    "# Split the data into train and test dataset\r\n",
    "from sklearn.model_selection import train_test_split\r\n",
    "\r\n",
    "x_train, x_test, y_train, y_test = train_test_split(X, y, test_size = 0.2)  "
   ]
  },
  {
   "cell_type": "code",
   "execution_count": 11,
   "metadata": {},
   "outputs": [
    {
     "name": "stdout",
     "output_type": "stream",
     "text": [
      "0.9748421826205664\n"
     ]
    }
   ],
   "source": [
    "from sklearn.ensemble import RandomForestRegressor\r\n",
    "\r\n",
    "forest = RandomForestRegressor(n_estimators = 2, random_state = 587)\r\n",
    "forest.fit(x_train, y_train)\r\n",
    "print(forest.score(x_test, y_test))"
   ]
  },
  {
   "cell_type": "code",
   "execution_count": 12,
   "metadata": {},
   "outputs": [
    {
     "name": "stdout",
     "output_type": "stream",
     "text": [
      "[0.05798004 0.00260422 0.0031786  0.00261899 0.00252266 0.00254786\n",
      " 0.05623937 0.27658023 0.04956684 0.00249849 0.00249947 0.57398368\n",
      " 0.05648384 0.00254786 0.00353665 0.04883477 0.00284449 0.00232932\n",
      " 0.00285134 0.05405095 0.07090206 0.00269316 0.35450384 0.00249947\n",
      " 0.00254698 0.47266653 0.00261142 0.32229974 0.00252933 0.00345465\n",
      " 0.0025947  0.00292778 0.00352669 0.27171032 0.05527366 0.05798004\n",
      " 0.00332409 0.05684285 0.00277759 0.00249947 0.00373675 0.00285134\n",
      " 0.05736062 0.00810836 0.00312569 0.00912897 0.00747906 0.05798004\n",
      " 0.00450374 0.00948991 0.50883898 0.0032733  0.57398368 0.27171032\n",
      " 0.00353817 0.00341584 0.00254698 0.00353817 0.00323495 0.00246923\n",
      " 0.32356871 0.00338891 0.00269825 0.05755861 0.00341584 0.00232932\n",
      " 0.0042216  0.00232932 0.50883898 0.00323304 0.00289144 0.00359071\n",
      " 0.00257289 0.00856188 0.00269316 0.00359517 0.0027926  0.00276499\n",
      " 0.30949183 0.05755861 0.00319713 0.00254106]\n",
      "\n",
      "[0.0571479  0.00259199 0.0032117  0.00265016 0.00246756 0.00251088\n",
      " 0.05742943 0.18882902 0.04992027 0.00232094 0.00260098 0.57380195\n",
      " 0.05930489 0.00243909 0.00335604 0.04679744 0.00277552 0.00231991\n",
      " 0.00280294 0.06132726 0.06957673 0.00268297 0.32780696 0.00244388\n",
      " 0.00249145 0.48607164 0.00263071 0.28729606 0.0025246  0.00339724\n",
      " 0.00265785 0.00292658 0.00313895 0.27120512 0.05356908 0.06139196\n",
      " 0.00332727 0.05608788 0.00275109 0.00251339 0.00465522 0.00264217\n",
      " 0.05539917 0.00836004 0.0032841  0.0091306  0.0084978  0.06365186\n",
      " 0.01053008 0.00971064 0.4485757  0.00323687 0.58358627 0.26351766\n",
      " 0.0035032  0.00317144 0.00250993 0.00342777 0.00322578 0.00260472\n",
      " 0.23478921 0.00330411 0.002444   0.05737176 0.00344347 0.00232646\n",
      " 0.00467103 0.00232458 0.6550496  0.00316432 0.00308434 0.00368712\n",
      " 0.0026602  0.00940266 0.00278525 0.00326522 0.00280924 0.00279844\n",
      " 0.30279966 0.06154315 0.00372494 0.00241408]\n"
     ]
    }
   ],
   "source": [
    "# Show how close the predicted values and the actual values are\r\n",
    "predicted = forest.predict(x_test)\r\n",
    "\r\n",
    "print(predicted)\r\n",
    "print()\r\n",
    "\r\n",
    "print(y_test)"
   ]
  },
  {
   "cell_type": "code",
   "execution_count": 13,
   "metadata": {},
   "outputs": [
    {
     "name": "stdout",
     "output_type": "stream",
     "text": [
      "0.240246524\n"
     ]
    }
   ],
   "source": [
    "# Get the validation data of the model\r\n",
    "# Create a variable to store all of the rows in the data set except the last n rows\r\n",
    "temp_df = df[: -prediction_days]\r\n",
    "\r\n",
    "# Create a variable to store the independent price value\r\n",
    "x_value = temp_df.tail(1)['PriceUSD'][0]\r\n",
    "\r\n",
    "print(x_value)"
   ]
  },
  {
   "cell_type": "code",
   "execution_count": 14,
   "metadata": {},
   "outputs": [
    {
     "name": "stdout",
     "output_type": "stream",
     "text": [
      "The price of Dogecoin in 1 day(s) is predicted to be 0.271710321\n",
      "The actual price was 0.24094331\n"
     ]
    }
   ],
   "source": [
    "prediction = forest.predict([[x_value]])\r\n",
    "\r\n",
    "print('The price of Dogecoin in', prediction_days, 'day(s) is predicted to be', prediction[0])\r\n",
    "\r\n",
    "print('The actual price was', temp_df.tail(1)['Prediction'][0])"
   ]
  },
  {
   "cell_type": "code",
   "execution_count": null,
   "metadata": {},
   "outputs": [],
   "source": []
  }
 ],
 "metadata": {
  "interpreter": {
   "hash": "5d7dc3740d4a340abe12a9b82a43b175de9fa685c1e73eb3b848ef6cb4c64b3a"
  },
  "kernelspec": {
   "display_name": "Python 3.9.5 64-bit",
   "name": "python3"
  },
  "language_info": {
   "codemirror_mode": {
    "name": "ipython",
    "version": 3
   },
   "file_extension": ".py",
   "mimetype": "text/x-python",
   "name": "python",
   "nbconvert_exporter": "python",
   "pygments_lexer": "ipython3",
   "version": "3.9.5"
  },
  "orig_nbformat": 4
 },
 "nbformat": 4,
 "nbformat_minor": 2
}